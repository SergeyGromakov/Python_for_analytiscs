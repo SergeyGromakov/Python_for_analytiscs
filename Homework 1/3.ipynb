{
 "cells": [
  {
   "cell_type": "markdown",
   "metadata": {},
   "source": [
    "## Задача 3\n",
    "### Дан список с затратами на рекламу. Но в данных есть ошибки, некоторые затраты имеют отрицательную величину. Удалите такие значения из списка и посчитайте суммарные затраты [100, 125, -90, 345, 655, -1, 0, 200].\n",
    "## Используйте list comprehensions"
   ]
  },
  {
   "cell_type": "code",
   "execution_count": 3,
   "metadata": {},
   "outputs": [
    {
     "name": "stdout",
     "output_type": "stream",
     "text": [
      "[100, 125, 345, 655, 0, 200]\n"
     ]
    },
    {
     "data": {
      "text/plain": [
       "'Сумма расходов на рекламу составила 1425 рублей'"
      ]
     },
     "execution_count": 3,
     "metadata": {},
     "output_type": "execute_result"
    }
   ],
   "source": [
    "def expenses (l1: list) -> int:\n",
    "    true_expenses = [l1[i] for i in range(len(l1)) if l1[i] >= 0]\n",
    "    print(true_expenses)\n",
    "    return f'Сумма расходов на рекламу составила {sum(true_expenses)} рублей'\n",
    "\n",
    "advertisment_expenses = [100, 125, -90, 345, 655, -1, 0, 200]\n",
    "expenses(advertisment_expenses)"
   ]
  }
 ],
 "metadata": {
  "kernelspec": {
   "display_name": "Python 3",
   "language": "python",
   "name": "python3"
  },
  "language_info": {
   "codemirror_mode": {
    "name": "ipython",
    "version": 3
   },
   "file_extension": ".py",
   "mimetype": "text/x-python",
   "name": "python",
   "nbconvert_exporter": "python",
   "pygments_lexer": "ipython3",
   "version": "3.11.2"
  },
  "orig_nbformat": 4
 },
 "nbformat": 4,
 "nbformat_minor": 2
}
