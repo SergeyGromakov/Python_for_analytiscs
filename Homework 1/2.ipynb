{
 "cells": [
  {
   "cell_type": "markdown",
   "metadata": {},
   "source": [
    "## Условие 2: \n",
    "### На складе лежат разные фрукты в разном количестве.\n",
    "### Нужно написать функцию, которая на вход принимает любое количество названий фруктов и их количество, а возвращает общее количество фруктов на складе"
   ]
  },
  {
   "cell_type": "code",
   "execution_count": 10,
   "metadata": {},
   "outputs": [
    {
     "data": {
      "text/plain": [
       "'Общее количесвто фруктов 51'"
      ]
     },
     "execution_count": 10,
     "metadata": {},
     "output_type": "execute_result"
    }
   ],
   "source": [
    "def count_fruits(fruits: list, amount: list) -> int:\n",
    "    total_amount = sum(amount)\n",
    "    # for i in range(len(fruits)):\n",
    "    #     total_amount += amount[i]\n",
    "    return f'Общее количесвто фруктов {total_amount}'\n",
    "\n",
    "fruits = ['арбузы', 'яблоки', 'виноград']\n",
    "amount = [5, 19, 27]\n",
    "count_fruits(fruits, amount)"
   ]
  },
  {
   "cell_type": "markdown",
   "metadata": {},
   "source": [
    "### Пробую через dictionary"
   ]
  },
  {
   "cell_type": "code",
   "execution_count": 9,
   "metadata": {},
   "outputs": [
    {
     "data": {
      "text/plain": [
       "'Общее количесвто фруктов 51'"
      ]
     },
     "execution_count": 9,
     "metadata": {},
     "output_type": "execute_result"
    }
   ],
   "source": [
    "def count_fruits(fruits: dict) -> int:\n",
    "    total_amount = 0\n",
    "    for value in fruits.values():\n",
    "        total_amount += value\n",
    "    return f'Общее количесвто фруктов {total_amount}'\n",
    "\n",
    "fruits = {'арбузы': 5, 'яблоки': 19, 'виноград': 27}\n",
    "count_fruits(fruits)"
   ]
  }
 ],
 "metadata": {
  "kernelspec": {
   "display_name": "Python 3",
   "language": "python",
   "name": "python3"
  },
  "language_info": {
   "codemirror_mode": {
    "name": "ipython",
    "version": 3
   },
   "file_extension": ".py",
   "mimetype": "text/x-python",
   "name": "python",
   "nbconvert_exporter": "python",
   "pygments_lexer": "ipython3",
   "version": "3.11.2"
  },
  "orig_nbformat": 4
 },
 "nbformat": 4,
 "nbformat_minor": 2
}
