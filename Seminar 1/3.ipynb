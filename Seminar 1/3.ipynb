{
 "cells": [
  {
   "cell_type": "markdown",
   "metadata": {},
   "source": [
    "Задание 3.\n",
    "Извлеките только два ключа name и age из представленного\n",
    "словаря\n",
    "Оформление ноутбука и закрепление функций и генераторов\n",
    "5 минут\n",
    "3.1 Напишите функцию с циклом for\n",
    "Функция на вход принимает:\n",
    "исходный словарь\n",
    "ключи, которые нужно извлечь (аргумент по\n",
    "умолчанию)\n",
    "На выходе словарь с нужными ключами\n",
    "Используйте аннотирование типов\n",
    "\n",
    "3.2 Используя dict comprehensions"
   ]
  },
  {
   "cell_type": "code",
   "execution_count": 4,
   "metadata": {},
   "outputs": [
    {
     "data": {
      "text/plain": [
       "{'salary': 5000}"
      ]
     },
     "execution_count": 4,
     "metadata": {},
     "output_type": "execute_result"
    }
   ],
   "source": [
    "def extract (d1: dict, keys= ['name', 'age']) -> dict:\n",
    "    dict_extracted = {}\n",
    "    for i in keys:\n",
    "        dict_extracted.update({i:d1[i]})\n",
    "    return dict_extracted\n",
    "\n",
    "client_dict = {\n",
    "    \"name\" : \"John\",\n",
    "    \"age\" : 25,\n",
    "    \"salary\" : 5000,\n",
    "    \"city\" : \"Moscow\",\n",
    "}\n",
    "\n",
    "extract(client_dict, ['salary'])\n"
   ]
  },
  {
   "cell_type": "code",
   "execution_count": 6,
   "metadata": {},
   "outputs": [
    {
     "data": {
      "text/plain": [
       "{'name': 'John', 'age': 25}"
      ]
     },
     "execution_count": 6,
     "metadata": {},
     "output_type": "execute_result"
    }
   ],
   "source": [
    "def extract (d1: dict, keys= ['name', 'age']) -> dict:\n",
    "    dict_extracted = {key:d1[key] for key in keys}\n",
    "    return dict_extracted\n",
    "\n",
    "client_dict = {\n",
    "    \"name\" : \"John\",\n",
    "    \"age\" : 25,\n",
    "    \"salary\" : 5000,\n",
    "    \"city\" : \"Moscow\",\n",
    "}\n",
    "\n",
    "extract(client_dict)\n"
   ]
  }
 ],
 "metadata": {
  "kernelspec": {
   "display_name": "Python 3",
   "language": "python",
   "name": "python3"
  },
  "language_info": {
   "codemirror_mode": {
    "name": "ipython",
    "version": 3
   },
   "file_extension": ".py",
   "mimetype": "text/x-python",
   "name": "python",
   "nbconvert_exporter": "python",
   "pygments_lexer": "ipython3",
   "version": "3.11.2"
  },
  "orig_nbformat": 4
 },
 "nbformat": 4,
 "nbformat_minor": 2
}
